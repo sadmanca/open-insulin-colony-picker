{
 "cells": [
  {
   "cell_type": "code",
   "execution_count": null,
   "metadata": {},
   "outputs": [],
   "source": [
    "#    Copyright 2019, iGEM Marburg 2019\n",
    "#    This program is free software: you can redistribute it and/or modify\n",
    "#    it under the terms of the GNU General Public License as published by\n",
    "#    the Free Software Foundation, either version 3 of the License, or\n",
    "#    (at your option) any later version.\n",
    "\n",
    "#    This program is distributed in the hope that it will be useful,\n",
    "#    but WITHOUT ANY WARRANTY; without even the implied warranty of\n",
    "#    MERCHANTABILITY or FITNESS FOR A PARTICULAR PURPOSE.  See the\n",
    "#    GNU General Public License for more details.\n",
    "\n",
    "#    You should have received a copy of the GNU General Public License\n",
    "#    along with this program.  If not, see <https://www.gnu.org/licenses/>."
   ]
  },
  {
   "cell_type": "markdown",
   "metadata": {},
   "source": [
    "### Loading Imports\n"
   ]
  },
  {
   "cell_type": "code",
   "execution_count": null,
   "metadata": {},
   "outputs": [],
   "source": [
    "from opentrons import robot, labware, instruments, modules\n",
    "import serial\n",
    "import time\n",
    "import json"
   ]
  },
  {
   "cell_type": "markdown",
   "metadata": {},
   "source": [
    "### Running Variables"
   ]
  },
  {
   "cell_type": "code",
   "execution_count": null,
   "metadata": {},
   "outputs": [],
   "source": [
    "amt_cols = 6 #How many columns you want to purify? (2*8=16)"
   ]
  },
  {
   "cell_type": "markdown",
   "metadata": {},
   "source": [
    "## Metadata"
   ]
  },
  {
   "cell_type": "code",
   "execution_count": null,
   "metadata": {},
   "outputs": [],
   "source": [
    "metadata = {\n",
    "    'protocolName': 'Plasmid Purification (Multi_Channel)',\n",
    "    'author': 'iGEM Marburg 2019',\n",
    "    'description': 'Promega Wizard MagneSil Plasmid Purification Protocol'\n",
    "}"
   ]
  },
  {
   "cell_type": "code",
   "execution_count": null,
   "metadata": {},
   "outputs": [],
   "source": [
    "######################### Working code ################################\n",
    "with serial.Serial('/dev/ttyUSB0', timeout=1) as ser:\n",
    "\n",
    "#    #ELM closes, ready for shaking \n",
    "    ser.write(b'setElmLockPos\\r')\n",
    "\n",
    "#    #Set the mixing speed target of 2,000 rpm \n",
    "#    ser.write(b'ssts1000\\r')\n",
    "\n",
    "#    #Shaker starts movement with 2,000 rpm \n",
    "#    ser.write(b'son\\r')\n",
    "\n",
    "    #Shaker stops in home position and lock in \n",
    "#    ser.write(b'soff\\r')\n",
    "\n",
    "    #ELM opens for gripping microplates \n",
    "#    ser.write(b'setElmUnlockPos\\r')\n",
    "##################################\n",
    "\n",
    "\n"
   ]
  },
  {
   "cell_type": "code",
   "execution_count": null,
   "metadata": {},
   "outputs": [],
   "source": [
    "robot.connect()\n",
    "robot.discover_modules()"
   ]
  },
  {
   "cell_type": "markdown",
   "metadata": {},
   "source": [
    "### Labware"
   ]
  },
  {
   "cell_type": "code",
   "execution_count": null,
   "metadata": {},
   "outputs": [],
   "source": []
  }
 ],
 "metadata": {
  "kernelspec": {
   "display_name": "Python 3",
   "language": "python",
   "name": "python3"
  },
  "language_info": {
   "codemirror_mode": {
    "name": "ipython",
    "version": 2
   },
   "file_extension": ".py",
   "mimetype": "text/x-python",
   "name": "python",
   "nbconvert_exporter": "python",
   "pygments_lexer": "ipython2",
   "version": "2.7.16"
  }
 },
 "nbformat": 4,
 "nbformat_minor": 2
}
