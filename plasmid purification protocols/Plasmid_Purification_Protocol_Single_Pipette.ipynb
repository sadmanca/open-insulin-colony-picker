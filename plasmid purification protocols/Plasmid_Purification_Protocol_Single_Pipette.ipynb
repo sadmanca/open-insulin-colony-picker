{
 "cells": [
  {
   "cell_type": "markdown",
   "metadata": {},
   "source": [
    "# Plasmid Purification Protocol - Single Pipette"
   ]
  },
  {
   "cell_type": "code",
   "execution_count": null,
   "metadata": {},
   "outputs": [],
   "source": [
    "#    Copyright 2019, iGEM Marburg 2019\n",
    "#    This program is free software: you can redistribute it and/or modify\n",
    "#    it under the terms of the GNU General Public License as published by\n",
    "#    the Free Software Foundation, either version 3 of the License, or\n",
    "#    (at your option) any later version.\n",
    "\n",
    "#    This program is distributed in the hope that it will be useful,\n",
    "#    but WITHOUT ANY WARRANTY; without even the implied warranty of\n",
    "#    MERCHANTABILITY or FITNESS FOR A PARTICULAR PURPOSE.  See the\n",
    "#    GNU General Public License for more details.\n",
    "\n",
    "#    You should have received a copy of the GNU General Public License\n",
    "#    along with this program.  If not, see <https://www.gnu.org/licenses/>."
   ]
  },
  {
   "cell_type": "markdown",
   "metadata": {},
   "source": [
    "### Loading Python modules"
   ]
  },
  {
   "cell_type": "code",
   "execution_count": 1,
   "metadata": {},
   "outputs": [
    {
     "name": "stdout",
     "output_type": "stream",
     "text": [
      "Loading json containers...\n",
      "Json container file load complete, listing database\n",
      "Found 0 containers to add. Starting migration...\n",
      "Database migration complete!\n"
     ]
    }
   ],
   "source": [
    "from opentrons import robot, labware, instruments, modules\n",
    "import serial\n",
    "import time\n",
    "import json"
   ]
  },
  {
   "cell_type": "markdown",
   "metadata": {},
   "source": [
    "### Loading custom functions"
   ]
  },
  {
   "cell_type": "code",
   "execution_count": 2,
   "metadata": {},
   "outputs": [],
   "source": [
    "#Custom mix function compatible with shaker defined as coordinates\n",
    "def custom_mix(times, volume, coord):\n",
    "    p300.move_to(coord, strategy = 'arc')\n",
    "    for i in range(0,times):\n",
    "        p300.aspirate(volume)\n",
    "        p300.dispense(volume ,coord)"
   ]
  },
  {
   "cell_type": "code",
   "execution_count": 3,
   "metadata": {},
   "outputs": [],
   "source": [
    "#Custom transfer function without pick_up_tip() and drop_tip()\n",
    "def custom_transfer(volume, source, destination):\n",
    "    p300.move_to(source)\n",
    "    p300.aspirate(volume)\n",
    "    p300.dispense(volume, destination)"
   ]
  },
  {
   "cell_type": "markdown",
   "metadata": {},
   "source": [
    "### Defining metadata"
   ]
  },
  {
   "cell_type": "code",
   "execution_count": 4,
   "metadata": {},
   "outputs": [],
   "source": [
    "metadata = {\n",
    "    'protocolName': 'Promega Wizard MagneSil Plasmid Purification Protocol',\n",
    "    'author': 'iGEM Marburg 2019',\n",
    "    'description': 'Script for performing plasmid purification for a small number of samples (1-6)',\n",
    "}"
   ]
  },
  {
   "cell_type": "code",
   "execution_count": 5,
   "metadata": {},
   "outputs": [],
   "source": [
    "amount = 3"
   ]
  },
  {
   "cell_type": "markdown",
   "metadata": {},
   "source": [
    "### Loading shaker module coordinates from json file"
   ]
  },
  {
   "cell_type": "code",
   "execution_count": 6,
   "metadata": {},
   "outputs": [],
   "source": [
    "### DEPRECATED, WAIT FOR PRINT TO FINISH OR MAKE CUSTOM LABWARE ###\n",
    "with open(\"CoordinatesOrdered.json\", \"r\") as infile:\n",
    "    coordinates = json.loads(infile.read())\n",
    "\n",
    "#Correcting Offset (can change after renewed calibration)\n",
    "for x in [\"A\",\"B\",\"C\",\"D\",\"E\",\"F\",\"G\",\"H\"]:\n",
    "    for y in [str(x) for x in range(1,13)]:\n",
    "        coordinates[\"%s%s\"%(x,y)][\"x\"] += 6\n",
    "        coordinates[\"%s%s\"%(x,y)][\"y\"] -= 8\n",
    "        coordinates[\"%s%s\"%(x,y)][\"z\"] += 25 #75 \n",
    "        "
   ]
  },
  {
   "cell_type": "markdown",
   "metadata": {},
   "source": [
    "### Connecting robot and modules"
   ]
  },
  {
   "cell_type": "code",
   "execution_count": 7,
   "metadata": {},
   "outputs": [],
   "source": [
    "robot.connect()\n",
    "robot.discover_modules()"
   ]
  },
  {
   "cell_type": "markdown",
   "metadata": {},
   "source": [
    "### Custom function to get ordered jason"
   ]
  },
  {
   "cell_type": "code",
   "execution_count": 8,
   "metadata": {},
   "outputs": [],
   "source": [
    "#Pass the json above as an argument and return it as an ordered list \n",
    "def order_json(unord_json):\n",
    "    coords = []\n",
    "    for i in sorted(unord_json, key=lambda x: (int(x[1:]), x[0])):\n",
    "        coords.append(unord_json[i])\n",
    "    return coords"
   ]
  },
  {
   "cell_type": "code",
   "execution_count": 9,
   "metadata": {},
   "outputs": [],
   "source": [
    "# Input: well_start: Integer where to start on the labware\n",
    "#        well_end: Integer where to stop on the labware\n",
    "#        coords_json: Pass the ordered json from order_json return\n",
    "# Output: returns (x, y, z) coordinates as a list of tuples from well_start to well_end\n",
    "\n",
    "def well_coords(well_start:int, well_end:int, coords_json):\n",
    "    if (well_start<0) or (well_end > 96) or (well_start>=well_end):\n",
    "        return None\n",
    "    \n",
    "    well_list = []\n",
    "    for i in range(well_start, well_end):\n",
    "        well_list.append((coords_json[i]['x'], coords_json[i]['y'], coords_json[i]['z']))\n",
    "    \n",
    "    return well_list"
   ]
  },
  {
   "cell_type": "code",
   "execution_count": 10,
   "metadata": {},
   "outputs": [],
   "source": [
    "coordinates = order_json(coordinates)"
   ]
  },
  {
   "cell_type": "markdown",
   "metadata": {},
   "source": [
    "### Defining labware"
   ]
  },
  {
   "cell_type": "code",
   "execution_count": 11,
   "metadata": {},
   "outputs": [],
   "source": [
    "tip_rack = labware.load('opentrons_96_tiprack_300ul','8')\n",
    "tip_rack2 = labware.load('opentrons_96_tiprack_300ul','9')\n",
    "liquid = labware.load('usascientific_96_wellplate_2.4ml_deep', slot = '7')\n",
    "plate_shake = labware.load('usascientific_96_wellplate_2.4ml_deep', slot = '3')\n",
    "magdeck = modules.load('magdeck', 10)\n",
    "plate_mag = labware.load('usascientific_96_wellplate_2.4ml_deep', slot = '10', share = True)\n",
    "final_plate = labware.load('usascientific_96_wellplate_2.4ml_deep', slot = '11')\n",
    "p300 = instruments.P300_Single(\n",
    "    mount = 'left', \n",
    "    tip_racks = [tip_rack, tip_rack2],\n",
    "    aspirate_flow_rate = 75)"
   ]
  },
  {
   "cell_type": "markdown",
   "metadata": {},
   "source": [
    "### Shaker command list"
   ]
  },
  {
   "cell_type": "code",
   "execution_count": 15,
   "metadata": {},
   "outputs": [],
   "source": [
    "#########################Activate Shaker Module#######################\n",
    "import serial\n",
    "import time\n",
    "\n",
    "\n",
    "######################### Working code ################################\n",
    "#with serial.Serial('/dev/ttyUSB0', timeout=1) as ser:\n",
    "\n",
    "#    #ELM closes, ready for shaking \n",
    "#     ser.write(b'setElmLockPos\\r')\n",
    "\n",
    "#    #Set the mixing speed target of 2,000 rpm \n",
    "#    ser.write(b'ssts1000\\r')\n",
    "\n",
    "#    #Shaker starts movement with 2,000 rpm \n",
    "#    ser.write(b'son\\r')\n",
    "\n",
    "    #Shaker stops in home position and lock in \n",
    "#    ser.write(b'soff\\r')\n",
    "\n",
    "    #ELM opens for gripping microplates \n",
    "#    ser.write(b'setElmUnlockPos\\r')\n",
    "##################################\n"
   ]
  },
  {
   "cell_type": "markdown",
   "metadata": {},
   "source": [
    "### Step 1 - Cell Resuspension Solution"
   ]
  },
  {
   "cell_type": "code",
   "execution_count": 16,
   "metadata": {},
   "outputs": [],
   "source": [
    "#Put shaker at home\n",
    "with serial.Serial('/dev/ttyUSB0', timeout=1) as ser:\n",
    "    ser.write(b'soff\\r')\n",
    "\n",
    "#Add Resuspension Solution\n",
    "for x in range(0,amount):\n",
    "    p300.pick_up_tip()\n",
    "    p300.aspirate(90, liquid.wells('A1'))\n",
    "    p300.dispense(90, (plate_shake, coordinates[x]))\n",
    "    p300.mix(10, 45, (plate_shake, coordinates[x]))\n",
    "    p300.drop_tip()"
   ]
  },
  {
   "cell_type": "code",
   "execution_count": 17,
   "metadata": {},
   "outputs": [],
   "source": [
    "#Shake at 1500 rpm for 2 min to resuspend cell pellet\n",
    "with serial.Serial('/dev/ttyUSB0', timeout=1) as ser:\n",
    "    ser.write(b'ssts1500\\r')\n",
    "    time.sleep(0.2) \n",
    "    ser.write(b'sonwr120\\r')\n",
    "    time.sleep(120)\n",
    "    ser.write(b'soff\\r')"
   ]
  },
  {
   "cell_type": "markdown",
   "metadata": {},
   "source": [
    "### Step 2 - Cell Lysis Solution"
   ]
  },
  {
   "cell_type": "code",
   "execution_count": 18,
   "metadata": {},
   "outputs": [
    {
     "data": {
      "text/plain": [
       "<opentrons.legacy_api.instruments.pipette.Pipette at 0x7085daf0>"
      ]
     },
     "execution_count": 18,
     "metadata": {},
     "output_type": "execute_result"
    }
   ],
   "source": [
    "#Add Cell Lysis Solution\n",
    "for x in range(0,amount):\n",
    "    p300.pick_up_tip()\n",
    "    p300.aspirate(120, liquid.wells('A2'))\n",
    "    p300.dispense(120, (plate_shake, coordinates[x]))\n",
    "    p300.mix(10, 105, (plate_shake, coordinates[x]))\n",
    "    p300.drop_tip()\n",
    "\n",
    "#Incubate for 3 minutes\n",
    "p300.delay(minutes = 3)"
   ]
  },
  {
   "cell_type": "markdown",
   "metadata": {},
   "source": [
    "### Step 3 - Neutralization Buffer"
   ]
  },
  {
   "cell_type": "code",
   "execution_count": 19,
   "metadata": {},
   "outputs": [],
   "source": [
    "#Add Neutralization Buffer\n",
    "for x in range(0,amount):\n",
    "    p300.pick_up_tip()\n",
    "    p300.aspirate(120, liquid.wells('A3'))\n",
    "    p300.dispense(120, (plate_shake, coordinates[x]))\n",
    "    p300.mix(10, 155, (plate_shake, coordinates[x]))\n",
    "    p300.drop_tip()"
   ]
  },
  {
   "cell_type": "markdown",
   "metadata": {},
   "source": [
    "### Step 4 - MagneSil Blue"
   ]
  },
  {
   "cell_type": "code",
   "execution_count": 20,
   "metadata": {},
   "outputs": [],
   "source": [
    "#Add MagneSil Blue\n",
    "for x in range(0,amount):\n",
    "    p300.pick_up_tip()\n",
    "    p300.mix(10, 80, liquid.wells('A4'))\n",
    "    p300.aspirate(25, liquid.wells('A4'))\n",
    "    p300.dispense(25, (plate_shake, coordinates[x]))\n",
    "    p300.mix(10, 155, (plate_shake, coordinates[x]))\n",
    "    p300.drop_tip()"
   ]
  },
  {
   "cell_type": "code",
   "execution_count": 21,
   "metadata": {},
   "outputs": [],
   "source": [
    "#Shake at 1200 rpm for 3 min\n",
    "with serial.Serial('/dev/ttyUSB0', timeout=1) as ser:\n",
    "    time.sleep(3) \n",
    "    ser.write(b'ssts1200\\r')\n",
    "    time.sleep(0.2) \n",
    "    ser.write(b'sonwr180\\r')\n",
    "    time.sleep(60)\n",
    "    ser.write(b'soff\\r')"
   ]
  },
  {
   "cell_type": "markdown",
   "metadata": {},
   "source": [
    "### Step 5 - Transfer to Magnetic Module"
   ]
  },
  {
   "cell_type": "code",
   "execution_count": 22,
   "metadata": {},
   "outputs": [],
   "source": [
    "#x+8 everytime we want to change column\n",
    "#Shake before every transfer step, because otherwise the lysate will clump and clog the tip\n",
    "\n",
    "for x in range(0,amount):\n",
    "    #Shake\n",
    "    with serial.Serial('/dev/ttyUSB0', timeout=1) as ser: \n",
    "        ser.write(b'ssts1200\\r')\n",
    "        time.sleep(0.2) \n",
    "        ser.write(b'sonwr180\\r')\n",
    "        time.sleep(10)\n",
    "        ser.write(b'soff\\r')\n",
    "        \n",
    "    #Transfer from shaker to magnetic module\n",
    "    p300.pick_up_tip()\n",
    "    custom_mix(10,170, (plate_shake, coordinates[x]))\n",
    "    p300.aspirate(170, (plate_shake, coordinates[x]))\n",
    "    p300.dispense(170, plate_mag.wells(x))\n",
    "    \n",
    "    #Do it twice cause the volume is too high for one transfer step\n",
    "    custom_mix(10,170, (plate_shake, coordinates[x]))\n",
    "    p300.aspirate(170, (plate_shake, coordinates[x]))\n",
    "    p300.dispense(170, plate_mag.wells(x))\n",
    "    \n",
    "    #Turn on magnetic module\n",
    "    magdeck.engage(height = 10)\n",
    "    time.sleep(20)\n",
    "    \n",
    "    #Cell trash is now attached to blue beads, transfer supernatant back to shaker\n",
    "    p300.aspirate(170, plate_mag.wells(x))\n",
    "    p300.dispense(170, (plate_shake, coordinates[x + 16]))\n",
    "    \n",
    "    #Do it twice cause the volume is too high for one transfer step\n",
    "    p300.aspirate(170, plate_mag.wells(x))\n",
    "    p300.dispense(170, (plate_shake, coordinates[x + 16]))\n",
    "    \n",
    "    #Turn off magnetic module\n",
    "    magdeck.disengage()\n",
    "    p300.drop_tip()"
   ]
  },
  {
   "cell_type": "markdown",
   "metadata": {},
   "source": [
    "### Step 6 - MagneSil Red"
   ]
  },
  {
   "cell_type": "code",
   "execution_count": null,
   "metadata": {},
   "outputs": [],
   "source": [
    "#Add MagneSil Red\n",
    "for x in range(0, amount):\n",
    "    p300.pick_up_tip()\n",
    "    p300.mix(10, 175, liquid.wells('A5'))\n",
    "    p300.aspirate(50, liquid.wells('A5'))\n",
    "    p300.dispense(50, (plate_shake, coordinates[x + 16]))\n",
    "    p300.drop_tip()"
   ]
  },
  {
   "cell_type": "code",
   "execution_count": null,
   "metadata": {},
   "outputs": [],
   "source": [
    "#Add Isopropanol\n",
    "for x in range(0,amount):\n",
    "    p300.pick_up_tip()\n",
    "    p300.aspirate(175, liquid.wells('A6'))\n",
    "    p300.dispense(175, (plate_shake, coordinates[x + 16]))\n",
    "    p300.drop_tip()\n",
    "    p300.pick_up_tip()\n",
    "    p300.aspirate(175, liquid.wells('A7'))\n",
    "    p300.dispense(175, (plate_shake, coordinates[x + 16]))\n",
    "    p300.drop_tip()\n"
   ]
  },
  {
   "cell_type": "code",
   "execution_count": null,
   "metadata": {},
   "outputs": [],
   "source": [
    "#Shake at 1200 rpm for 5 min to catch all plasmids\n",
    "with serial.Serial('/dev/ttyUSB0', timeout=1) as ser:\n",
    "    ser.write(b'ssts1200\\r')\n",
    "    time.sleep(0.2) \n",
    "    ser.write(b'sonwr300\\r')\n",
    "    time.sleep(180)\n",
    "    ser.write(b'soff\\r')"
   ]
  },
  {
   "cell_type": "markdown",
   "metadata": {},
   "source": [
    "### Step 7 - Transfer to Magnetic Module"
   ]
  },
  {
   "cell_type": "code",
   "execution_count": null,
   "metadata": {},
   "outputs": [],
   "source": [
    "#Shake before every transfer step, because otherwise the beads clump and clog the tip\n",
    "\n",
    "for x in range(0,amount):\n",
    "    #Shake\n",
    "    with serial.Serial('/dev/ttyUSB0', timeout=1) as ser: \n",
    "        ser.write(b'ssts1200\\r')\n",
    "        time.sleep(0.2) \n",
    "        ser.write(b'sonwr180\\r')\n",
    "        time.sleep(10)\n",
    "        ser.write(b'soff\\r')\n",
    "        \n",
    "    #Transfer back to magnetic module \n",
    "    p300.pick_up_tip()    \n",
    "    custom_mix(10,175,(plate_shake, coordinates[x + 16]))\n",
    "    custom_transfer(280, (plate_shake, coordinates[x + 16]), plate_mag.wells(x + 8))\n",
    "    custom_transfer(280, (plate_shake, coordinates[x + 16]), plate_mag.wells(x + 8))\n",
    "    custom_transfer(280, (plate_shake, coordinates[x + 16]), plate_mag.wells(x + 8))\n",
    "    \n",
    "    #Turn magnetic module on\n",
    "    magdeck.engage(height = 10)\n",
    "    p300.delay(seconds = 10)\n",
    "    \n",
    "    # Discard supernatant, plasmids are attached to Red Beads -> Trash to first column of plate on the shaker\n",
    "    p300.aspirate(250, plate_mag.wells(x + 8))\n",
    "    p300.dispense(250, (plate_shake, coordinates[x]))\n",
    "    p300.aspirate(250, plate_mag.wells(x + 8))\n",
    "    p300.dispense(250, (plate_shake, coordinates[x]))\n",
    "    p300.aspirate(250, plate_mag.wells(x + 8))\n",
    "    p300.dispense(250, (plate_shake, coordinates[x]))\n",
    "    magdeck.disengage()\n",
    "    p300.drop_tip()"
   ]
  },
  {
   "cell_type": "markdown",
   "metadata": {},
   "source": [
    "### Step 8 - Washing Solution"
   ]
  },
  {
   "cell_type": "code",
   "execution_count": null,
   "metadata": {},
   "outputs": [],
   "source": [
    "#Add Washing Solution\n",
    "for x in range(0,amount):\n",
    "    p300.pick_up_tip()\n",
    "    p300.aspirate(240, liquid.wells('A8'))\n",
    "    p300.dispense(240, plate_mag.wells(x + 8))\n",
    "    p300.mix(3,120, plate_mag.wells(x + 8))\n",
    "    \n",
    "    #Turn magnetic module on\n",
    "    magdeck.engage(height = 10)\n",
    "    p300.delay(seconds = 10)\n",
    "    \n",
    "    #Discard supernatant -> Trash to first column of plate on the shaker\n",
    "    p300.aspirate(200, plate_mag.wells(x + 8))\n",
    "    p300.dispense(200, (plate_shake, coordinates[x]))\n",
    "    magdeck.disengage()\n",
    "    p300.drop_tip()\n"
   ]
  },
  {
   "cell_type": "markdown",
   "metadata": {},
   "source": [
    "### Step 9 - Ethanol"
   ]
  },
  {
   "cell_type": "code",
   "execution_count": null,
   "metadata": {},
   "outputs": [],
   "source": [
    "#Add Ethanol\n",
    "for x in range(0,amount):\n",
    "    p300.pick_up_tip()\n",
    "    p300.aspirate(250, liquid.wells('A9'))\n",
    "    p300.dispense(250, plate_mag.wells(x + 8))\n",
    "    p300.mix(3,120, plate_mag.wells(x + 8))\n",
    "    \n",
    "    #Turn magnetic module on\n",
    "    magdeck.engage(height = 10)\n",
    "    p300.delay(seconds = 10)\n",
    "    \n",
    "    #Discard supernatant, need to test\n",
    "    p300.aspirate(250, plate_mag.wells(x + 8))\n",
    "    p300.dispense(250, (plate_shake, coordinates[x + 16]))\n",
    "    magdeck.disengage()\n",
    "    p300.drop_tip()\n"
   ]
  },
  {
   "cell_type": "markdown",
   "metadata": {},
   "source": [
    "### Step 10 - Ethanol Second Time"
   ]
  },
  {
   "cell_type": "code",
   "execution_count": null,
   "metadata": {},
   "outputs": [],
   "source": [
    "#Add Ethanol\n",
    "for x in range(0,amount):\n",
    "    p300.pick_up_tip()\n",
    "    p300.aspirate(250, liquid.wells('A10'))\n",
    "    p300.dispense(250, plate_mag.wells(x + 8))\n",
    "    p300.mix(3,120, plate_mag.wells(x + 8))\n",
    "    \n",
    "    #Turn magnetic module on\n",
    "    magdeck.engage(height = 10)\n",
    "    p300.delay(seconds = 10)\n",
    "    \n",
    "    #Discard supernatant\n",
    "    p300.aspirate(170, plate_mag.wells(x + 8))\n",
    "    p300.dispense(170, (plate_shake, coordinates[x + 16]))\n",
    "    p300.aspirate(170, plate_mag.wells(x + 8))\n",
    "    p300.dispense(170, (plate_shake, coordinates[x + 16]))\n",
    "    magdeck.disengage()\n",
    "    p300.drop_tip()\n",
    "    \n",
    "p300.delay(minutes = 5)\n"
   ]
  },
  {
   "cell_type": "markdown",
   "metadata": {},
   "source": [
    "### Step 11 - Nuclease Free Water"
   ]
  },
  {
   "cell_type": "code",
   "execution_count": null,
   "metadata": {},
   "outputs": [],
   "source": [
    "#Add Nuclease Free Water to elute the plasmid\n",
    "for x in range(0,amount):\n",
    "    p300.pick_up_tip()\n",
    "    p300.aspirate(100, liquid.wells('A11'))\n",
    "    p300.dispense(100, plate_mag.wells(x + 8))\n",
    "    p300.mix(10,75, plate_mag.wells(x + 8))\n",
    "    p300.delay(seconds = 10)\n",
    "    \n",
    "    #Turn magnetic module on\n",
    "    magdeck.engage(height = 10)\n",
    "    p300.delay(seconds = 10)\n",
    "    \n",
    "    #Now DNA is in Nuclease Free Water, pipette to final 96 Well Plate\n",
    "    p300.aspirate(100, plate_mag.wells(x + 8))\n",
    "    p300.dispense(100, final_plate.wells(x))\n",
    "    \n",
    "    magdeck.disengage()\n",
    "    p300.drop_tip()\n"
   ]
  }
 ],
 "metadata": {
  "kernelspec": {
   "display_name": "Python 3",
   "language": "python",
   "name": "python3"
  },
  "language_info": {
   "codemirror_mode": {
    "name": "ipython",
    "version": 3
   },
   "file_extension": ".py",
   "mimetype": "text/x-python",
   "name": "python",
   "nbconvert_exporter": "python",
   "pygments_lexer": "ipython3",
   "version": "3.6.3"
  }
 },
 "nbformat": 4,
 "nbformat_minor": 2
}
