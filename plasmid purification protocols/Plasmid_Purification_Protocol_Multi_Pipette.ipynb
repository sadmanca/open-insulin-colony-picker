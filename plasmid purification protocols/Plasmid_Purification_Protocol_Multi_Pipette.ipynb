{
 "cells": [
  {
   "cell_type": "markdown",
   "metadata": {},
   "source": [
    "# Plasmid Purification Protocol - Multi Pipette"
   ]
  },
  {
   "cell_type": "code",
   "execution_count": null,
   "metadata": {},
   "outputs": [],
   "source": [
    "#    Copyright 2019, iGEM Marburg 2019\n",
    "#    This program is free software: you can redistribute it and/or modify\n",
    "#    it under the terms of the GNU General Public License as published by\n",
    "#    the Free Software Foundation, either version 3 of the License, or\n",
    "#    (at your option) any later version.\n",
    "\n",
    "#    This program is distributed in the hope that it will be useful,\n",
    "#    but WITHOUT ANY WARRANTY; without even the implied warranty of\n",
    "#    MERCHANTABILITY or FITNESS FOR A PARTICULAR PURPOSE.  See the\n",
    "#    GNU General Public License for more details.\n",
    "\n",
    "#    You should have received a copy of the GNU General Public License\n",
    "#    along with this program.  If not, see <https://www.gnu.org/licenses/>."
   ]
  },
  {
   "cell_type": "markdown",
   "metadata": {},
   "source": [
    "### Loading Imports"
   ]
  },
  {
   "cell_type": "code",
   "execution_count": 1,
   "metadata": {},
   "outputs": [
    {
     "name": "stdout",
     "output_type": "stream",
     "text": [
      "Loading json containers...\n",
      "Json container file load complete, listing database\n",
      "Found 0 containers to add. Starting migration...\n",
      "Database migration complete!\n"
     ]
    }
   ],
   "source": [
    "from opentrons import robot, labware, instruments, modules\n",
    "import serial\n",
    "import time\n",
    "import json"
   ]
  },
  {
   "cell_type": "markdown",
   "metadata": {},
   "source": [
    "### Running Variables"
   ]
  },
  {
   "cell_type": "code",
   "execution_count": null,
   "metadata": {},
   "outputs": [],
   "source": [
    "amt_cols = 2 #How many columns you want to purify? (2*8=16)"
   ]
  },
  {
   "cell_type": "markdown",
   "metadata": {},
   "source": [
    "### Metadata"
   ]
  },
  {
   "cell_type": "code",
   "execution_count": null,
   "metadata": {},
   "outputs": [],
   "source": [
    "metadata = {\n",
    "    'protocolName': 'Plasmid Purification (Multi_Channel)',\n",
    "    'author': 'iGEM Marburg 2019',\n",
    "    'description': 'Promega Wizard MagneSil Plasmid Purification Protocol'\n",
    "}"
   ]
  },
  {
   "cell_type": "markdown",
   "metadata": {},
   "source": [
    "### Labware"
   ]
  },
  {
   "cell_type": "code",
   "execution_count": null,
   "metadata": {},
   "outputs": [],
   "source": [
    "tip_rack = labware.load('opentrons_96_tiprack_300ul','8')\n",
    "tip_rack2 = labware.load('opentrons_96_tiprack_300ul','9')\n",
    "liquid = labware.load('usascientific_12_reservoir_22ml', slot = '7')\n",
    "plate_shake = labware.load('usascientific_96_wellplate_2.4ml_deep', slot = '3')\n",
    "magdeck = modules.load('magdeck', 10)\n",
    "plate_mag = labware.load('usascientific_96_wellplate_2.4ml_deep', slot = '10', share = True)\n",
    "final_plate = labware.load('usascientific_96_wellplate_2.4ml_deep', slot = '11')"
   ]
  },
  {
   "cell_type": "markdown",
   "metadata": {},
   "source": [
    "### Liquids"
   ]
  },
  {
   "cell_type": "code",
   "execution_count": null,
   "metadata": {},
   "outputs": [],
   "source": [
    "resuspension = liquid.wells(0)\n",
    "lysis = liquid.wells(1)\n",
    "neutralization = liquid.wells(2)\n",
    "magnesil_blue = liquid.wells(3)\n",
    "magnesil_red = liquid.wells(4)\n",
    "isopropanol =  liquid.wells(5)\n",
    "wash_solution = liquid.wells(6)\n",
    "ethanol = [liquid.wells(7), liquid.wells(8)]\n",
    "water = liquid.wells(9)"
   ]
  },
  {
   "cell_type": "markdown",
   "metadata": {},
   "source": [
    "### Pipette"
   ]
  },
  {
   "cell_type": "code",
   "execution_count": null,
   "metadata": {},
   "outputs": [],
   "source": [
    "p300 = instruments.P300_Multi(\n",
    "    mount = 'left', \n",
    "    tip_racks = [tip_rack, tip_rack2],\n",
    "    aspirate_flow_rate = 75)"
   ]
  },
  {
   "cell_type": "markdown",
   "metadata": {},
   "source": [
    " "
   ]
  },
  {
   "cell_type": "markdown",
   "metadata": {},
   "source": [
    "### Custom Functions"
   ]
  },
  {
   "cell_type": "code",
   "execution_count": null,
   "metadata": {},
   "outputs": [],
   "source": [
    "def mischen(times, volume, coord):\n",
    "    p300.move_to(coord, strategy = 'arc')\n",
    "    for i in range(0,times):\n",
    "        p300.aspirate(volume)\n",
    "        p300.dispense(volume ,coord)\n",
    "        \n",
    "\n",
    "def custom_transfer(volume, source, destination):\n",
    "    p300.move_to(source)\n",
    "    p300.aspirate(volume)\n",
    "    p300.dispense(volume, destination)"
   ]
  },
  {
   "cell_type": "markdown",
   "metadata": {},
   "source": [
    "### Load Custom Labware"
   ]
  },
  {
   "cell_type": "code",
   "execution_count": null,
   "metadata": {},
   "outputs": [],
   "source": [
    "with open(\"coordinates.json\", \"r\") as infile:\n",
    "    coordinates = json.loads(infile.read())\n",
    "\n",
    "# Correcting Offset \n",
    "for x in [\"A\",\"B\",\"C\",\"D\",\"E\",\"F\",\"G\",\"H\"]:\n",
    "    for y in [str(x) for x in range(1,13)]:\n",
    "        coordinates[\"%s%s\"%(x,y)][\"x\"] += 6\n",
    "        coordinates[\"%s%s\"%(x,y)][\"y\"] -= 8\n",
    "        coordinates[\"%s%s\"%(x,y)][\"z\"] += 25 \n",
    "        \n",
    "col_cord = []\n",
    "counter = 0\n",
    "for i in coordinates.items():\n",
    "    if counter%8 == 0:\n",
    "        col_cord.append((i[1]['x'], i[1]['y'], i[1]['z']))\n",
    "    counter += 1"
   ]
  },
  {
   "cell_type": "markdown",
   "metadata": {},
   "source": [
    "### Connecting"
   ]
  },
  {
   "cell_type": "code",
   "execution_count": null,
   "metadata": {},
   "outputs": [],
   "source": [
    "robot.connect()\n",
    "robot.discover_modules()"
   ]
  },
  {
   "cell_type": "markdown",
   "metadata": {},
   "source": [
    "### Step 1 - Cell Resuspension Solution"
   ]
  },
  {
   "cell_type": "code",
   "execution_count": null,
   "metadata": {},
   "outputs": [],
   "source": [
    "#Put shaker at home\n",
    "with serial.Serial('/dev/ttyUSB0', timeout=1) as ser:\n",
    "    ser.write(b'soff\\r')\n",
    "\n",
    "#Add Resuspension Solution\n",
    "for i in range(amt_cols):\n",
    "    p300.pick_up_tip()\n",
    "    p300.aspirate(90, resuspsension)\n",
    "    p300.dispense(90, (plate_shake, col_cord[i]))\n",
    "    p300.mix(10, 45, (plate_shake, col_cord[i]))\n",
    "    p300.drop_tip()"
   ]
  },
  {
   "cell_type": "code",
   "execution_count": null,
   "metadata": {},
   "outputs": [],
   "source": [
    "#Shake at 1500 rpm for 2 min\n",
    "with serial.Serial('/dev/ttyUSB0', timeout=1) as ser:\n",
    "    ser.write(b'ssts1500\\r')\n",
    "    time.sleep(0.2) \n",
    "    ser.write(b'sonwr120\\r')\n",
    "    time.sleep(120)\n",
    "    #ser.write(b'sgh\\r')\n",
    "    ser.write(b'soff\\r')"
   ]
  },
  {
   "cell_type": "markdown",
   "metadata": {},
   "source": [
    "### Step 2 - Cell Lysis Solution"
   ]
  },
  {
   "cell_type": "code",
   "execution_count": null,
   "metadata": {},
   "outputs": [],
   "source": [
    "#Put shaker at home\n",
    "with serial.Serial('/dev/ttyUSB0', timeout=1) as ser:\n",
    "    ser.write(b'soff\\r')\n",
    "    \n",
    "#Add Resuspension Solution\n",
    "for i in range(amt_cols):\n",
    "    p300.pick_up_tip()\n",
    "    p300.aspirate(120, lysis)\n",
    "    p300.dispense(120, (plate_shake, col_cord[i]))\n",
    "    p300.mix(10, 105, (plate_shake, cold_cord[i]))\n",
    "    p300.drop_tip()\n",
    "\n",
    "#In protocol it is written incubate 3 minutes, but since giving neutralization solution takes time, only do one minute to catch up    \n",
    "p300.delay(minutes = 3)"
   ]
  },
  {
   "cell_type": "markdown",
   "metadata": {},
   "source": [
    "### Step 3 - Neutralization Buffer"
   ]
  },
  {
   "cell_type": "code",
   "execution_count": null,
   "metadata": {},
   "outputs": [],
   "source": [
    "#Put shaker at home\n",
    "with serial.Serial('/dev/ttyUSB0', timeout=1) as ser:\n",
    "    ser.write(b'soff\\r')\n",
    "    \n",
    "#Add Neutralization Buffer\n",
    "for i in range(amt_cols):\n",
    "    p300.pick_up_tip()\n",
    "    p300.aspirate(120, neutralization)\n",
    "    p300.dispense(120, (plate_shake, col_cord[i]))\n",
    "    p300.mix(10, 155, (plate_shake, col_cord[i]))\n",
    "    p300.drop_tip()"
   ]
  },
  {
   "cell_type": "markdown",
   "metadata": {},
   "source": [
    "### Step 4 - MagneSil Blue"
   ]
  },
  {
   "cell_type": "code",
   "execution_count": null,
   "metadata": {},
   "outputs": [],
   "source": [
    "#Put shaker at home\n",
    "with serial.Serial('/dev/ttyUSB0', timeout=1) as ser:\n",
    "    ser.write(b'soff\\r')\n",
    "    \n",
    "#Add MagneSil Blue\n",
    "for i in range(amt_cols):\n",
    "    p300.pick_up_tip()\n",
    "    p300.mix(10, 80, magnesil_blue)\n",
    "    p300.aspirate(30, magnesil_blue)\n",
    "    p300.dispense(30, (plate_shake, col_cord[i]))\n",
    "    p300.mix(10, 155, (plate_shake, col_cord[i]))\n",
    "    p300.drop_tip()"
   ]
  },
  {
   "cell_type": "code",
   "execution_count": null,
   "metadata": {},
   "outputs": [],
   "source": [
    "#Shake at 1200 rpm for 3 min\n",
    "with serial.Serial('/dev/ttyUSB0', timeout=1) as ser:\n",
    "    time.sleep(3) \n",
    "    ser.write(b'ssts1200\\r')\n",
    "    time.sleep(0.2) \n",
    "    ser.write(b'sonwr180\\r')\n",
    "    time.sleep(60)\n",
    "    ser.write(b'soff\\r')"
   ]
  },
  {
   "cell_type": "markdown",
   "metadata": {},
   "source": [
    "### Step 5 - Transfer to Magnetic Module"
   ]
  },
  {
   "cell_type": "code",
   "execution_count": null,
   "metadata": {},
   "outputs": [],
   "source": [
    "#Shake before every transfer step, because otherwise the lysate will clump and clog the tip\n",
    "\n",
    "for i in range(amt_cols):\n",
    "    #Shake\n",
    "    with serial.Serial('/dev/ttyUSB0', timeout=1) as ser: \n",
    "        ser.write(b'ssts1200\\r')\n",
    "        time.sleep(0.2) \n",
    "        ser.write(b'sonwr180\\r')\n",
    "        time.sleep(10)\n",
    "        ser.write(b'soff\\r')\n",
    "        \n",
    "    p300.pick_up_tip()\n",
    "    \n",
    "    #Transfer from shaker to magnetic module\n",
    "    p300.transfer(\n",
    "        340,\n",
    "        (plate_shake, col_cord[i]),\n",
    "        plage_mag.cols(i),\n",
    "        mix_before = (10, 170),\n",
    "        carryover = True,\n",
    "        new_tip = 'never' \n",
    "    )\n",
    "\n",
    "    #Turn on magnetic module\n",
    "    magdeck.engage(height = 20)\n",
    "    time.sleep(20)\n",
    "\n",
    "    #Cell trash is now attached to blue beads, transfer supernatant back to shaker\n",
    "    p300.transfer(\n",
    "        340,\n",
    "        plate_mag.cols(i),\n",
    "        (plate_shake, col_cord[i+amt_cols]),\n",
    "        carryover = True,\n",
    "        new_tip = 'never',\n",
    "    )\n",
    "\n",
    "    #Turn off magnetic module\n",
    "    magdeck.disengage()\n",
    "    p300.drop_tip()"
   ]
  },
  {
   "cell_type": "markdown",
   "metadata": {},
   "source": [
    "### Step 6 - MagneSil Red"
   ]
  },
  {
   "cell_type": "code",
   "execution_count": null,
   "metadata": {},
   "outputs": [],
   "source": [
    "#Add MagneSil Red\n",
    "for i in range(amt_cols):\n",
    "    p300.transfer(\n",
    "        50,\n",
    "        magnesil_red,\n",
    "        (plate_shake, col_cord[i+amt_cols]),\n",
    "        mix_before = (10, 175)\n",
    "    )"
   ]
  },
  {
   "cell_type": "code",
   "execution_count": null,
   "metadata": {},
   "outputs": [],
   "source": [
    "#Add Isopropanol\n",
    "for i in range(amt_cols):\n",
    "    p300.transfer(\n",
    "        350,\n",
    "        isopropanol,\n",
    "        (plate_shake, col_cord[i+amt_cols]),\n",
    "        new_tip = 'once',\n",
    "        carryover = True\n",
    "    )"
   ]
  },
  {
   "cell_type": "code",
   "execution_count": null,
   "metadata": {},
   "outputs": [],
   "source": [
    "#Shake at 1200 rpm for 5 min to catch all plasmids\n",
    "with serial.Serial('/dev/ttyUSB0', timeout=1) as ser:\n",
    "    ser.write(b'ssts1200\\r')\n",
    "    time.sleep(0.2) \n",
    "    ser.write(b'sonwr300\\r')\n",
    "    time.sleep(180)\n",
    "    ser.write(b'soff\\r')"
   ]
  },
  {
   "cell_type": "markdown",
   "metadata": {},
   "source": [
    "### Step 7 - Transfer to Magnetic Module (Anso)"
   ]
  },
  {
   "cell_type": "code",
   "execution_count": null,
   "metadata": {},
   "outputs": [],
   "source": [
    "#Shake before every transfer step, because otherwise the beads clump and clog the tip\n",
    "\n",
    "for i in range(amt_cols):\n",
    "    #Shake\n",
    "    with serial.Serial('/dev/ttyUSB0', timeout=1) as ser: \n",
    "        ser.write(b'ssts1200\\r')\n",
    "        time.sleep(0.2) \n",
    "        ser.write(b'sonwr180\\r')\n",
    "        time.sleep(10)\n",
    "        ser.write(b'soff\\r')\n",
    "        \n",
    "    #Transfer back to magnetic module \n",
    "    p300.pick_up_tip()    \n",
    "    \n",
    "    custom_mix(10,175,(plate_shake, col_cord[i+amt_cols]))\n",
    "    \n",
    "    #Transfer from shaker to magnetic module\n",
    "    p300.transfer(\n",
    "        840,\n",
    "        (plate_shake, col_cord[i+amt_cols]),\n",
    "        plage_mag.cols(i+amt_cols),\n",
    "        mix_before = (10, 170),\n",
    "        carryover = True,\n",
    "        new_tip = 'never' \n",
    "    )\n",
    "    \n",
    "    #Turn on magnetic module\n",
    "    magdeck.engage(height = 10)\n",
    "    time.sleep(20)\n",
    "\n",
    "    #Discard supernatant\n",
    "    p300.transfer(\n",
    "        840,\n",
    "        plate_mag.cols(i+amt_cols),\n",
    "        (plate_shake, col_cord[i]),\n",
    "        carryover = True,\n",
    "        new_tip = 'never',\n",
    "    )\n",
    "\n",
    "    #Turn off magnetic module\n",
    "    magdeck.disengage()\n",
    "    p300.drop_tip()"
   ]
  },
  {
   "cell_type": "markdown",
   "metadata": {},
   "source": [
    "### Step 8 - Washing Solution"
   ]
  },
  {
   "cell_type": "code",
   "execution_count": null,
   "metadata": {},
   "outputs": [],
   "source": [
    "#Add Washing Solution\n",
    "for i in range(amt_cols):\n",
    "    \n",
    "    p300.pick_up_tip()\n",
    "    \n",
    "    p300.transfer(\n",
    "        240,\n",
    "        wash_solution,\n",
    "        plate_mag.cols(i+amt_cols),\n",
    "        carryover = True,\n",
    "        new_tip = 'never',\n",
    "    )\n",
    "    \n",
    "    p300.mix(3,120, plate_mag.cols(i+amt_cols))\n",
    "    \n",
    "    #Turn magnetic module on\n",
    "    magdeck.engage(height = 10)\n",
    "    p300.delay(seconds = 10)\n",
    "     \n",
    "    #Discard supernatant\n",
    "    p300.transfer(\n",
    "        200,\n",
    "        plate_mag.cols(i+amt_cols),\n",
    "        (plate_shake, col_cord[i+amt_cols]),\n",
    "        carryover = True,\n",
    "        new_tip = 'never',\n",
    "    )\n",
    "\n",
    "    #Turn off magnetic module\n",
    "    magdeck.disengage()\n",
    "    p300.drop_tip()\n"
   ]
  },
  {
   "cell_type": "markdown",
   "metadata": {},
   "source": [
    "### Step 9 - Ethanol"
   ]
  },
  {
   "cell_type": "code",
   "execution_count": null,
   "metadata": {},
   "outputs": [],
   "source": [
    "#Add Ethanol\n",
    "for i in range(amt_cols):\n",
    "    \n",
    "    p300.pick_up_tip()\n",
    "    \n",
    "    p300.transfer(\n",
    "        250,\n",
    "        ethanol[1],\n",
    "        plate_mag.cols(i+amt_cols),\n",
    "        carryover = True,\n",
    "        new_tip = 'never',\n",
    "    )\n",
    "    \n",
    "    p300.mix(3,120, plate_mag.cols(i+amt_cols))\n",
    "    \n",
    "    #Turn magnetic module on\n",
    "    magdeck.engage(height = 10)\n",
    "    p300.delay(seconds = 10)\n",
    "     \n",
    "    #Discard supernatant\n",
    "    p300.transfer(\n",
    "        250,\n",
    "        plate_mag.cols(i+amt_cols),\n",
    "        (plate_shake, col_cord[i+amt_cols]),\n",
    "        carryover = True,\n",
    "        new_tip = 'never',\n",
    "    )\n",
    "\n",
    "    #Turn off magnetic module\n",
    "    magdeck.disengage()\n",
    "    p300.drop_tip()"
   ]
  },
  {
   "cell_type": "markdown",
   "metadata": {},
   "source": [
    "### Step 10 - Ethanol"
   ]
  },
  {
   "cell_type": "code",
   "execution_count": null,
   "metadata": {},
   "outputs": [],
   "source": [
    "#Add Ethanol\n",
    "for i in range(amt_cols):\n",
    "    \n",
    "    p300.pick_up_tip()\n",
    "    \n",
    "    p300.transfer(\n",
    "        250,\n",
    "        ethanol[2],\n",
    "        plate_mag.cols(i+amt_cols),\n",
    "        carryover = True,\n",
    "        new_tip = 'never',\n",
    "    )\n",
    "    \n",
    "    p300.mix(3,120, plate_mag.cols(i+amt_cols))\n",
    "    \n",
    "    #Turn magnetic module on\n",
    "    magdeck.engage(height = 10)\n",
    "    p300.delay(seconds = 10)\n",
    "     \n",
    "    #Discard supernatant\n",
    "    p300.transfer(\n",
    "        340,\n",
    "        plate_mag.cols(i+amt_cols),\n",
    "        (plate_shake, col_cord[i+amt_cols]),\n",
    "        carryover = True,\n",
    "        new_tip = 'never',\n",
    "    )\n",
    "\n",
    "    #Turn off magnetic module\n",
    "    magdeck.disengage()\n",
    "    p300.drop_tip()\n",
    "\n",
    "p300.delay(minutes = 5)"
   ]
  },
  {
   "cell_type": "markdown",
   "metadata": {},
   "source": [
    "### Step 11 - Nuclease Free Water"
   ]
  },
  {
   "cell_type": "code",
   "execution_count": null,
   "metadata": {},
   "outputs": [],
   "source": [
    "#Add Nuclease Free Water to elute the plasmid\n",
    "for i in range(amt_cols):\n",
    "    \n",
    "    p300.pick_up_tip()\n",
    "    \n",
    "    p300.transfer(\n",
    "        100,\n",
    "        water,\n",
    "        plate_mag.cols(i+amt_cols),\n",
    "        carryover = True,\n",
    "        new_tip = 'never',\n",
    "    )\n",
    "    \n",
    "    p300.mix(10,75, plate_mag.cols(i+amt_cols))\n",
    "    \n",
    "    #Turn magnetic module on\n",
    "    magdeck.engage(height = 10)\n",
    "    p300.delay(seconds = 10)\n",
    "     \n",
    "    #Now DNA is in Nuclease Free Water, pipette to final 96 Well Plate\n",
    "    p300.transfer(\n",
    "        100,\n",
    "        plate_mag.cols(i+amt_cols),\n",
    "        final_plate.cols(i),\n",
    "        carryover = True,\n",
    "        new_tip = 'never',\n",
    "    )\n",
    "\n",
    "    #Turn off magnetic module\n",
    "    magdeck.disengage()\n",
    "    p300.drop_tip()"
   ]
  }
 ],
 "metadata": {
  "kernelspec": {
   "display_name": "Python 3",
   "language": "python",
   "name": "python3"
  },
  "language_info": {
   "codemirror_mode": {
    "name": "ipython",
    "version": 3
   },
   "file_extension": ".py",
   "mimetype": "text/x-python",
   "name": "python",
   "nbconvert_exporter": "python",
   "pygments_lexer": "ipython3",
   "version": "3.6.3"
  }
 },
 "nbformat": 4,
 "nbformat_minor": 2
}
